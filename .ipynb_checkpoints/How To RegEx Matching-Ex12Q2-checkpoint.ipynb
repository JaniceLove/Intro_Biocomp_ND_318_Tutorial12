{
 "cells": [
  {
   "cell_type": "markdown",
   "metadata": {},
   "source": [
    "### Exercise 12, Question 2\n",
    "### Melissa Stephens and Janice Love"
   ]
  },
  {
   "cell_type": "markdown",
   "metadata": {},
   "source": [
    "#### Goal: Describe the RegEx that matches each of the patterns below and why, including examples\n",
    "* Pattern 1\n",
    "    + times after noon, but before midnight when reported in 24-hour or \"military\" format (e.g. 15:30)\n",
    "* Pattern 2\n",
    "    + Genus species names expressed in the format G. species (e.g. H.sapien)\n",
    "* Pattern 3\n",
    "    + Social security numbers (e.g 389-05-4771)"
   ]
  },
  {
   "cell_type": "markdown",
   "metadata": {},
   "source": [
    "#### Pattern 1"
   ]
  },
  {
   "cell_type": "markdown",
   "metadata": {},
   "source": [
    "12:01pm to 11:59pm is equal to 12:01 to 23:59 in \"military\" time"
   ]
  },
  {
   "cell_type": "code",
   "execution_count": 3,
   "metadata": {
    "collapsed": true
   },
   "outputs": [],
   "source": [
    "list1=['12:00, 12:35, 16:00, 23:55, 24:00'] #makes a list with some items to match"
   ]
  },
  {
   "cell_type": "code",
   "execution_count": 4,
   "metadata": {
    "collapsed": true
   },
   "outputs": [],
   "source": [
    "#The RegEx that catches times between 12:01-23:59 is as follows\n"
   ]
  },
  {
   "cell_type": "code",
   "execution_count": null,
   "metadata": {
    "collapsed": true
   },
   "outputs": [],
   "source": []
  }
 ],
 "metadata": {
  "kernelspec": {
   "display_name": "Python 2",
   "language": "python",
   "name": "python2"
  },
  "language_info": {
   "codemirror_mode": {
    "name": "ipython",
    "version": 2
   },
   "file_extension": ".py",
   "mimetype": "text/x-python",
   "name": "python",
   "nbconvert_exporter": "python",
   "pygments_lexer": "ipython2",
   "version": "2.7.13"
  }
 },
 "nbformat": 4,
 "nbformat_minor": 2
}
